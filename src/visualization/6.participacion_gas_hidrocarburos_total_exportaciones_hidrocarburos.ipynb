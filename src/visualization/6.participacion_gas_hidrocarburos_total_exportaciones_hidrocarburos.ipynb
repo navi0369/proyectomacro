{
 "cells": [
  {
   "cell_type": "code",
   "execution_count": 1,
   "metadata": {},
   "outputs": [
    {
     "data": {
      "text/html": [
       "<div>\n",
       "<style scoped>\n",
       "    .dataframe tbody tr th:only-of-type {\n",
       "        vertical-align: middle;\n",
       "    }\n",
       "\n",
       "    .dataframe tbody tr th {\n",
       "        vertical-align: top;\n",
       "    }\n",
       "\n",
       "    .dataframe thead th {\n",
       "        text-align: right;\n",
       "    }\n",
       "</style>\n",
       "<table border=\"1\" class=\"dataframe\">\n",
       "  <thead>\n",
       "    <tr style=\"text-align: right;\">\n",
       "      <th></th>\n",
       "      <th>año</th>\n",
       "      <th>exportacion_gas</th>\n",
       "      <th>otros_hidrocarburos</th>\n",
       "    </tr>\n",
       "  </thead>\n",
       "  <tbody>\n",
       "    <tr>\n",
       "      <th>0</th>\n",
       "      <td>1980</td>\n",
       "      <td>90.0</td>\n",
       "      <td>10.0</td>\n",
       "    </tr>\n",
       "    <tr>\n",
       "      <th>1</th>\n",
       "      <td>1981</td>\n",
       "      <td>97.0</td>\n",
       "      <td>3.0</td>\n",
       "    </tr>\n",
       "    <tr>\n",
       "      <th>2</th>\n",
       "      <td>1982</td>\n",
       "      <td>96.0</td>\n",
       "      <td>4.0</td>\n",
       "    </tr>\n",
       "    <tr>\n",
       "      <th>3</th>\n",
       "      <td>1983</td>\n",
       "      <td>90.0</td>\n",
       "      <td>10.0</td>\n",
       "    </tr>\n",
       "    <tr>\n",
       "      <th>4</th>\n",
       "      <td>1984</td>\n",
       "      <td>97.0</td>\n",
       "      <td>3.0</td>\n",
       "    </tr>\n",
       "  </tbody>\n",
       "</table>\n",
       "</div>"
      ],
      "text/plain": [
       "    año  exportacion_gas  otros_hidrocarburos\n",
       "0  1980             90.0                 10.0\n",
       "1  1981             97.0                  3.0\n",
       "2  1982             96.0                  4.0\n",
       "3  1983             90.0                 10.0\n",
       "4  1984             97.0                  3.0"
      ]
     },
     "execution_count": 1,
     "metadata": {},
     "output_type": "execute_result"
    }
   ],
   "source": [
    "import os\n",
    "import sqlite3\n",
    "import pandas as pd\n",
    "import matplotlib.pyplot as plt\n",
    "import seaborn as sns\n",
    "# Conectar a la base de datos y cargar los datos\n",
    "conn = sqlite3.connect(\"../../db/proyectomacro.db\")\n",
    "df = pd.read_sql(\"SELECT * FROM participacion_gas_hidrocarburos_total_exportaciones_hidrocarburos\", conn)\n",
    "conn.close()\n",
    "# Directorio de salida\n",
    "output_dir = \"../../assets/imagenes/6.participacion_gas_hidrocarburos_total_exportaciones_hidrocarburos/\"\n",
    "if not os.path.exists(output_dir):\n",
    "    os.makedirs(output_dir)\n",
    "df.head()\n"
   ]
  },
  {
   "cell_type": "code",
   "execution_count": 4,
   "metadata": {},
   "outputs": [],
   "source": [
    "# 1) Gráfica de líneas: evolución de exportación de gas y otros hidrocarburos\n",
    "plt.figure(figsize=(8,6))\n",
    "sns.lineplot(data=df, x=\"año\", y=\"exportacion_gas\", marker=\"o\", label=\"Exportación Gas\")\n",
    "sns.lineplot(data=df, x=\"año\", y=\"otros_hidrocarburos\", marker=\"o\", label=\"Otros Hidrocarburos\")\n",
    "plt.title(\"Evolución de Exportaciones de Gas y Otros Hidrocarburos\")\n",
    "plt.xlabel(\"Año\")\n",
    "plt.ylabel(\"Porcentaje\")\n",
    "plt.legend()\n",
    "plt.tight_layout()\n",
    "plt.xticks(df[\"año\"][::2],rotation=45)\n",
    "plt.grid()\n",
    "plt.savefig(os.path.join(output_dir, \"6.1_evolucion_exportaciones.png\"))\n",
    "plt.close()\n",
    "\n",
    "# 2) Gráfica de barras apiladas: participación de gas vs. otros hidrocarburos\n",
    "plt.figure(figsize=(8,6))\n",
    "# Para usar barras apiladas con seaborn, creamos dos barplots con bottom\n",
    "sns.barplot(data=df, x=\"año\", y=\"exportacion_gas\", color=\"skyblue\", label=\"Exportación Gas\")\n",
    "sns.barplot(data=df, x=\"año\", y=\"otros_hidrocarburos\",\n",
    "            bottom=df[\"exportacion_gas\"], color=\"lightgreen\", label=\"Otros Hidrocarburos\")\n",
    "plt.title(\"Participación de Gas y Otros Hidrocarburos (Barras Apiladas)\")\n",
    "plt.xlabel(\"Año\")\n",
    "plt.ylabel(\"Porcentaje\")\n",
    "plt.legend()\n",
    "plt.tight_layout()\n",
    "plt.xticks(rotation=45)\n",
    "plt.savefig(os.path.join(output_dir, \"6.2_barras_apiladas.png\"))\n",
    "plt.close()\n"
   ]
  }
 ],
 "metadata": {
  "kernelspec": {
   "display_name": "aider",
   "language": "python",
   "name": "python3"
  },
  "language_info": {
   "codemirror_mode": {
    "name": "ipython",
    "version": 3
   },
   "file_extension": ".py",
   "mimetype": "text/x-python",
   "name": "python",
   "nbconvert_exporter": "python",
   "pygments_lexer": "ipython3",
   "version": "3.12.3"
  }
 },
 "nbformat": 4,
 "nbformat_minor": 2
}
