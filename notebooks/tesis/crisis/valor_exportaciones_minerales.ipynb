{
 "cells": [
  {
   "cell_type": "code",
   "execution_count": null,
   "id": "30405c1d",
   "metadata": {},
   "outputs": [],
   "source": [
    "valores_exportaciones_minerales = [\n",
    "    145.6,  # 1951\n",
    "    137.3,  # 1952\n",
    "    121.3,  # 1953\n",
    "    100.8,  # 1954\n",
    "     97.8,  # 1955\n",
    "     99.9,  # 1956\n",
    "     88.5,  # 1957\n",
    "     55.7,  # 1958\n",
    "     68.7,  # 1959\n",
    "     59.8   # 1960\n",
    "]"
   ]
  }
 ],
 "metadata": {
  "language_info": {
   "name": "python"
  }
 },
 "nbformat": 4,
 "nbformat_minor": 5
}
