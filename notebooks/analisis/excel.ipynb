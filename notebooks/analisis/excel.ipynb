{
 "cells": [
  {
   "cell_type": "code",
   "execution_count": 3,
   "id": "25c22a25",
   "metadata": {},
   "outputs": [
    {
     "name": "stdout",
     "output_type": "stream",
     "text": [
      "Datos exportados a: ../precio_oficial_minerales.xlsx\n"
     ]
    }
   ],
   "source": [
    "import pandas as pd\n",
    "import sqlite3\n",
    "import os\n",
    "\n",
    "# 1. Directorio de salida\n",
    "output_dir = \"../\"\n",
    "os.makedirs(output_dir, exist_ok=True)\n",
    "output_file = os.path.join(output_dir, \"precio_oficial_minerales.xlsx\")\n",
    "\n",
    "# 2. Conexión a la base de datos y extracción\n",
    "conn = sqlite3.connect('../../db/proyectomacro.db')\n",
    "df = pd.read_sql_query(\"SELECT * FROM precio_oficial_minerales ORDER BY año\", conn)\n",
    "conn.close()\n",
    "\n",
    "# 3. Exportar a Excel\n",
    "df.to_excel(output_file, index=False, sheet_name=\"Precios Minerales\")\n",
    "\n",
    "print(f\"Datos exportados a: {output_file}\")\n"
   ]
  },
  {
   "cell_type": "code",
   "execution_count": 4,
   "id": "8a94b84b",
   "metadata": {},
   "outputs": [
    {
     "name": "stdout",
     "output_type": "stream",
     "text": [
      "Datos exportados a: ../exportaciones_minerales_totales.xlsx\n"
     ]
    }
   ],
   "source": [
    "import pandas as pd\n",
    "import sqlite3\n",
    "import os\n",
    "\n",
    "# 1. Directorio de salida\n",
    "output_dir = \"../\"\n",
    "os.makedirs(output_dir, exist_ok=True)\n",
    "output_file = os.path.join(output_dir, \"exportaciones_minerales_totales.xlsx\")\n",
    "\n",
    "# 2. Conexión a la base de datos y extracción\n",
    "conn = sqlite3.connect('../../db/proyectomacro.db')\n",
    "df = pd.read_sql_query(\"SELECT * FROM exportaciones_minerales_totales ORDER BY año\", conn)\n",
    "conn.close()\n",
    "\n",
    "# 3. Exportar a Excel\n",
    "df.to_excel(output_file, index=False, sheet_name=\"Exportaciones Minerales\")\n",
    "\n",
    "print(f\"Datos exportados a: {output_file}\")\n"
   ]
  },
  {
   "cell_type": "code",
   "execution_count": null,
   "id": "8864771e",
   "metadata": {},
   "outputs": [],
   "source": [
    "import pandas as pd\n",
    "import sqlite3\n",
    "import os\n",
    "\n",
    "# 1. Directorio de salida\n",
    "output_dir = \"../\"\n",
    "os.makedirs(output_dir, exist_ok=True)\n",
    "output_file = os.path.join(output_dir, \"exportaciones_minerales_totales.xlsx\")\n",
    "\n",
    "# 2. Conexión a la base de datos y extracción\n",
    "conn = sqlite3.connect('../../db/proyectomacro.db')\n",
    "df = pd.read_sql_query(\"SELECT * FROM exportaciones_minerales_totales ORDER BY año\", conn)\n",
    "conn.close()\n",
    "\n",
    "# 3. Exportar a Excel\n",
    "df.to_excel(output_file, index=False, sheet_name=\"Exportaciones Minerales\")\n",
    "\n",
    "print(f\"Datos exportados a: {output_file}\")\n"
   ]
  },
  {
   "cell_type": "code",
   "execution_count": 5,
   "id": "4cd4c5f0",
   "metadata": {},
   "outputs": [
    {
     "name": "stdout",
     "output_type": "stream",
     "text": [
      "Datos exportados a: ../balanza_comercial.xlsx\n"
     ]
    }
   ],
   "source": [
    "import pandas as pd\n",
    "import sqlite3\n",
    "import os\n",
    "\n",
    "# 1. Directorio de salida\n",
    "output_dir = \"../\"\n",
    "os.makedirs(output_dir, exist_ok=True)\n",
    "output_file = os.path.join(output_dir, \"balanza_comercial.xlsx\")\n",
    "\n",
    "# 2. Conexión a la base de datos y extracción\n",
    "conn = sqlite3.connect('../../db/proyectomacro.db')\n",
    "df = pd.read_sql_query(\"SELECT * FROM balanza_comercial ORDER BY año\", conn)\n",
    "conn.close()\n",
    "\n",
    "# 3. Exportar a Excel\n",
    "df.to_excel(output_file, index=False, sheet_name=\"Balanza Comercial\")\n",
    "\n",
    "print(f\"Datos exportados a: {output_file}\")\n"
   ]
  }
 ],
 "metadata": {
  "kernelspec": {
   "display_name": "aider",
   "language": "python",
   "name": "python3"
  },
  "language_info": {
   "codemirror_mode": {
    "name": "ipython",
    "version": 3
   },
   "file_extension": ".py",
   "mimetype": "text/x-python",
   "name": "python",
   "nbconvert_exporter": "python",
   "pygments_lexer": "ipython3",
   "version": "3.12.3"
  }
 },
 "nbformat": 4,
 "nbformat_minor": 5
}
