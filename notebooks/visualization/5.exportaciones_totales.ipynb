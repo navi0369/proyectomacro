{
 "cells": [
  {
   "cell_type": "code",
   "execution_count": 5,
   "metadata": {
    "lines_to_next_cell": 2
   },
   "outputs": [],
   "source": [
    "import os\n",
    "import sqlite3\n",
    "import pandas as pd\n",
    "import matplotlib.pyplot as plt\n",
    "import seaborn as sns\n",
    "# Conectar a la base de datos y cargar los datos\n",
    "conn = sqlite3.connect(\"../../db/proyectomacro.db\")\n",
    "df = pd.read_sql(\"SELECT * FROM exportaciones_totales\", conn)\n",
    "conn.close()\n",
    "# Directorio de salida\n",
    "output_dir = \"../../assets/imagenes/5.exportaciones_totales/\"\n",
    "if not os.path.exists(output_dir):\n",
    "    os.makedirs(output_dir)"
   ]
  },
  {
   "cell_type": "code",
   "execution_count": 6,
   "metadata": {},
   "outputs": [],
   "source": [
    "# Ajustes generales para las gráficas\n",
    "sns.set_style(\"whitegrid\")\n",
    "plt.rcParams[\"figure.figsize\"] = (8, 5)\n",
    "\n",
    "# 1. Evolución del valor oficial total\n",
    "plt.figure()\n",
    "sns.lineplot(data=df, x=\"año\", y=\"total_valor_oficial\", marker=\"o\")\n",
    "plt.title(\"Evolución del Valor Oficial Total\")\n",
    "plt.xlabel(\"Año\")\n",
    "plt.ylabel(\"Millones de USD\")\n",
    "plt.savefig(os.path.join(output_dir, \"5.1_evolucion_valor_total.png\"))\n",
    "plt.close()\n",
    "\n",
    "# 2. Comparación de exportaciones tradicionales vs no tradicionales\n",
    "plt.figure()\n",
    "sns.lineplot(data=df, x=\"año\", y=\"productos_tradicionales\", marker=\"o\", label=\"Tradicionales\")\n",
    "sns.lineplot(data=df, x=\"año\", y=\"productos_no_tradicionales\", marker=\"o\", label=\"No Tradicionales\")\n",
    "plt.title(\"Exportaciones Tradicionales vs No Tradicionales\")\n",
    "plt.xlabel(\"Año\")\n",
    "plt.ylabel(\"Millones de USD\")\n",
    "plt.legend()\n",
    "plt.savefig(os.path.join(output_dir, \"5.2_exportaciones_tradicionales_vs_no_tradicionales.png\"))\n",
    "plt.close()\n",
    "\n",
    "# 3. Gráfica de barras apiladas (stacked) de tradicionales y no tradicionales\n",
    "df.plot(\n",
    "    x=\"año\",\n",
    "    y=[\"productos_tradicionales\", \"productos_no_tradicionales\"],\n",
    "    kind=\"bar\",\n",
    "    stacked=True,\n",
    "    title=\"Exportaciones (Tradicionales y No Tradicionales)\",\n",
    "    figsize=(8, 5)\n",
    ")\n",
    "plt.xlabel(\"Año\")\n",
    "plt.ylabel(\"Millones de USD\")\n",
    "plt.legend([\"Tradicionales\", \"No Tradicionales\"])\n",
    "plt.savefig(os.path.join(output_dir, \"5.3_exportaciones_stacked_bar.png\"))\n",
    "plt.close()\n",
    "\n",
    "# 4. Porcentaje de participación de cada categoría en el total\n",
    "df[\"pct_tradicional\"] = df[\"productos_tradicionales\"] / df[\"total_valor_oficial\"] * 100\n",
    "df[\"pct_no_tradicional\"] = df[\"productos_no_tradicionales\"] / df[\"total_valor_oficial\"] * 100\n",
    "\n",
    "plt.figure()\n",
    "sns.lineplot(data=df, x=\"año\", y=\"pct_tradicional\", marker=\"o\", label=\"% Tradicional\")\n",
    "sns.lineplot(data=df, x=\"año\", y=\"pct_no_tradicional\", marker=\"o\", label=\"% No Tradicional\")\n",
    "plt.title(\"Porcentaje de Exportaciones Tradicionales vs No Tradicionales\")\n",
    "plt.xlabel(\"Año\")\n",
    "plt.ylabel(\"Porcentaje (%)\")\n",
    "plt.legend()\n",
    "plt.savefig(os.path.join(output_dir, \"5.4_porcentaje_exportaciones.png\"))\n",
    "plt.close()\n",
    "\n",
    "# 5. Distribución y relaciones entre variables (pairplot)\n",
    "sns.pairplot(df[[\"productos_tradicionales\", \"productos_no_tradicionales\", \"total_valor_oficial\"]], diag_kind=\"kde\")\n",
    "plt.suptitle(\"Distribución y Relaciones entre Variables\", y=1.02)\n",
    "plt.savefig(os.path.join(output_dir, \"5.5_distribucion_pairplot.png\"))\n",
    "plt.close()"
   ]
  }
 ],
 "metadata": {
  "jupytext": {
   "formats": "notebooks///ipynb,scripts///py:percent"
  },
  "kernelspec": {
   "display_name": "aider",
   "language": "python",
   "name": "python3"
  },
  "language_info": {
   "codemirror_mode": {
    "name": "ipython",
    "version": 3
   },
   "file_extension": ".py",
   "mimetype": "text/x-python",
   "name": "python",
   "nbconvert_exporter": "python",
   "pygments_lexer": "ipython3",
   "version": "3.12.3"
  }
 },
 "nbformat": 4,
 "nbformat_minor": 2
}
