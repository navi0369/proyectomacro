{
 "cells": [
  {
   "cell_type": "code",
   "execution_count": 10,
   "id": "f558716a",
   "metadata": {},
   "outputs": [],
   "source": [
    "import sqlite3\n",
    "import pandas as pd\n",
    "\n",
    "# Conexión a la base de datos\n",
    "conn = sqlite3.connect(\"../../db/proyectomacro.db\")\n",
    "# Obtener la lista de tablas\n",
    "query = \"SELECT name FROM sqlite_master WHERE type='table';\"\n",
    "tables = pd.read_sql(query, conn)['name'].tolist()\n",
    "\n",
    "# Importar todas las tablas en un diccionario de DataFrames\n",
    "dfs = {}\n",
    "for table in tables:\n",
    "    dfs[table] = pd.read_sql(f\"SELECT * FROM {table}\", conn)\n",
    "\n",
    "output_dir = \"../../db/tablas_excel\"\n",
    "for table_name, df in dfs.items():\n",
    "    df.to_excel(f\"{output_dir}/{table_name}.xlsx\", index=False)"
   ]
  },
  {
   "cell_type": "code",
   "execution_count": 11,
   "id": "bb0b0910",
   "metadata": {},
   "outputs": [
    {
     "data": {
      "text/plain": [
       "['Tasa_Crecimiento_PIB',\n",
       " 'produccion_minerales',\n",
       " 'precio_minerales',\n",
       " 'precio_oficial_minerales',\n",
       " 'Participacion_PIB',\n",
       " 'Reservas_oro_divisas',\n",
       " 'grado_de_apertura',\n",
       " 'participacion_x_m_pib',\n",
       " 'PIB_Real_Gasto',\n",
       " 'participacion_exp_trad_no_trad',\n",
       " 'exportaciones_totales',\n",
       " 'participacion_hidrocarburos_minerales_exportaciones_tradicionales',\n",
       " 'participacion_gas_hidrocarburos_total_exportaciones_hidrocarburos',\n",
       " 'composicion_importaciones_uso_destino',\n",
       " 'participacion_composicion_importaciones_uso_destino',\n",
       " 'balanza_comercial',\n",
       " 'exportacion_gas_natural_contratos',\n",
       " 'exportaciones_minerales_totales',\n",
       " 'pobreza_extrema',\n",
       " 'pobreza',\n",
       " 'balanza_de_pagos',\n",
       " 'inflacion_general_acumulada',\n",
       " 'precio_petroleo_wti',\n",
       " 'fuente_tablas',\n",
       " 'operaciones_empresas_publicas',\n",
       " 'consolidado_spnf',\n",
       " 'deuda_externa_total',\n",
       " 'deuda_interna',\n",
       " 'inversion_publica_por_sectores',\n",
       " 'inversion_publica_total',\n",
       " 'exportaciones_tradicionales_no_tradicionales',\n",
       " 'flujo_divisas',\n",
       " 'pib_ramas',\n",
       " 'exportaciones_tradicionales_hidrocarburos',\n",
       " 'exportaciones_tradicionales',\n",
       " 'exportacion_gas_natural',\n",
       " 'participacion_pib_ramas',\n",
       " 'exportaciones_no_tradicionales',\n",
       " 'exportaciones_por_pais_de_destino',\n",
       " 'inflacion_acumulada',\n",
       " 'cotizacion_oficial_dolar',\n",
       " 'mercado_laboral',\n",
       " 'pib_nominal_gasto',\n",
       " 'deflactor_implicito_pib_gasto',\n",
       " 'oferta_total',\n",
       " 'demanda_total',\n",
       " 'vbp_sector_2006_2014',\n",
       " 'ingresos_nacionales']"
      ]
     },
     "execution_count": 11,
     "metadata": {},
     "output_type": "execute_result"
    }
   ],
   "source": [
    "tables"
   ]
  }
 ],
 "metadata": {
  "kernelspec": {
   "display_name": ".venv",
   "language": "python",
   "name": "python3"
  },
  "language_info": {
   "codemirror_mode": {
    "name": "ipython",
    "version": 3
   },
   "file_extension": ".py",
   "mimetype": "text/x-python",
   "name": "python",
   "nbconvert_exporter": "python",
   "pygments_lexer": "ipython3",
   "version": "3.12.3"
  }
 },
 "nbformat": 4,
 "nbformat_minor": 5
}
