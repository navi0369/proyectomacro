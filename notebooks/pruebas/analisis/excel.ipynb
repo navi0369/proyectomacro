{
 "cells": [
  {
   "cell_type": "code",
   "execution_count": 3,
   "id": "25c22a25",
   "metadata": {
    "lines_to_next_cell": 2
   },
   "outputs": [
    {
     "name": "stdout",
     "output_type": "stream",
     "text": [
      "Datos exportados a: ../precio_oficial_minerales.xlsx\n"
     ]
    }
   ],
   "source": [
    "import pandas as pd\n",
    "import sqlite3\n",
    "import os\n",
    "\n",
    "# 1. Directorio de salida\n",
    "output_dir = \"../\"\n",
    "os.makedirs(output_dir, exist_ok=True)\n",
    "output_file = os.path.join(output_dir, \"precio_oficial_minerales.xlsx\")\n",
    "\n",
    "# 2. Conexión a la base de datos y extracción\n",
    "conn = sqlite3.connect('../../db/proyectomacro.db')\n",
    "df = pd.read_sql_query(\"SELECT * FROM precio_oficial_minerales ORDER BY año\", conn)\n",
    "conn.close()\n",
    "\n",
    "# 3. Exportar a Excel\n",
    "df.to_excel(output_file, index=False, sheet_name=\"Precios Minerales\")\n",
    "\n",
    "print(f\"Datos exportados a: {output_file}\")"
   ]
  },
  {
   "cell_type": "code",
   "execution_count": null,
   "id": "8a94b84b",
   "metadata": {
    "lines_to_next_cell": 2
   },
   "outputs": [
    {
     "name": "stdout",
     "output_type": "stream",
     "text": [
      "Datos exportados a: ../exportaciones_minerales_totales.xlsx\n"
     ]
    }
   ],
   "source": [
    "import pandas as pd\n",
    "import sqlite3\n",
    "import os\n",
    "\n",
    "# 1. Directorio de salida\n",
    "output_dir = \"../\"\n",
    "os.makedirs(output_dir, exist_ok=True)\n",
    "output_file = os.path.join(output_dir, \"exportaciones_minerales_totales.xlsx\")\n",
    "\n",
    "# 2. Conexión a la base de datos y extracción\n",
    "conn = sqlite3.connect('../../db/proyectomacro.db')\n",
    "df = pd.read_sql_query(\"SELECT * FROM exportaciones_minerales_totales ORDER BY año\", conn)\n",
    "conn.close()\n",
    "\n",
    "# 3. Exportar a Excel\n",
    "df.to_excel(output_file, index=False, sheet_name=\"Exportaciones Minerales\")\n",
    "\n",
    "print(f\"Datos exportados a: {output_file}\")"
   ]
  },
  {
   "cell_type": "code",
   "execution_count": null,
   "id": "8864771e",
   "metadata": {
    "lines_to_next_cell": 2
   },
   "outputs": [],
   "source": [
    "import pandas as pd\n",
    "import sqlite3\n",
    "import os\n",
    "\n",
    "# 1. Directorio de salida\n",
    "output_dir = \"../\"\n",
    "os.makedirs(output_dir, exist_ok=True)\n",
    "output_file = os.path.join(output_dir, \"exportaciones_minerales_totales.xlsx\")\n",
    "\n",
    "# 2. Conexión a la base de datos y extracción\n",
    "conn = sqlite3.connect('../../db/proyectomacro.db')\n",
    "df = pd.read_sql_query(\"SELECT * FROM exportaciones_minerales_totales ORDER BY año\", conn)\n",
    "conn.close()\n",
    "\n",
    "# 3. Exportar a Excel\n",
    "df.to_excel(output_file, index=False, sheet_name=\"Exportaciones Minerales\")\n",
    "\n",
    "print(f\"Datos exportados a: {output_file}\")"
   ]
  },
  {
   "cell_type": "code",
   "execution_count": null,
   "id": "4cd4c5f0",
   "metadata": {
    "lines_to_next_cell": 2
   },
   "outputs": [
    {
     "name": "stdout",
     "output_type": "stream",
     "text": [
      "Datos exportados a: ../balanza_comercial.xlsx\n"
     ]
    }
   ],
   "source": [
    "import pandas as pd\n",
    "import sqlite3\n",
    "import os\n",
    "\n",
    "# 1. Directorio de salida\n",
    "output_dir = \"../\"\n",
    "os.makedirs(output_dir, exist_ok=True)\n",
    "output_file = os.path.join(output_dir, \"balanza_comercial.xlsx\")\n",
    "\n",
    "# 2. Conexión a la base de datos y extracción\n",
    "conn = sqlite3.connect('../../db/proyectomacro.db')\n",
    "df = pd.read_sql_query(\"SELECT * FROM balanza_comercial ORDER BY año\", conn)\n",
    "conn.close()\n",
    "\n",
    "# 3. Exportar a Excel\n",
    "df.to_excel(output_file, index=False, sheet_name=\"Balanza Comercial\")\n",
    "\n",
    "print(f\"Datos exportados a: {output_file}\")"
   ]
  },
  {
   "cell_type": "code",
   "execution_count": 4,
   "id": "d9148cc3",
   "metadata": {},
   "outputs": [
    {
     "name": "stdout",
     "output_type": "stream",
     "text": [
      "Datos exportados a: ../pib_ramas.xlsx\n"
     ]
    }
   ],
   "source": [
    "import pandas as pd\n",
    "import sqlite3\n",
    "import os\n",
    "\n",
    "# 1. Directorio de salida\n",
    "output_dir = \"../\"\n",
    "os.makedirs(output_dir, exist_ok=True)\n",
    "output_file = os.path.join(output_dir, \"pib_ramas.xlsx\")\n",
    "\n",
    "# 2. Conexión a la base de datos y extracción\n",
    "conn = sqlite3.connect('../../db/proyectomacro.db')\n",
    "df = pd.read_sql_query(\"SELECT * FROM pib_ramas ORDER BY año\", conn)\n",
    "conn.close()\n",
    "\n",
    "# 3. Exportar a Excel\n",
    "df.to_excel(output_file, index=False, sheet_name=\"PIB por Ramas\")\n",
    "\n",
    "print(f\"Datos exportados a: {output_file}\")"
   ]
  },
  {
   "cell_type": "code",
   "execution_count": 5,
   "id": "0574b1f4",
   "metadata": {},
   "outputs": [
    {
     "name": "stdout",
     "output_type": "stream",
     "text": [
      "Datos exportados a: ../pib_real_gasto.xlsx\n"
     ]
    }
   ],
   "source": [
    "import pandas as pd\n",
    "import sqlite3\n",
    "import os\n",
    "\n",
    "# 1. Directorio de salida\n",
    "output_dir = \"../\"\n",
    "os.makedirs(output_dir, exist_ok=True)\n",
    "output_file = os.path.join(output_dir, \"pib_real_gasto.xlsx\")\n",
    "\n",
    "# 2. Conexión a la base de datos y extracción\n",
    "conn = sqlite3.connect('../../db/proyectomacro.db')\n",
    "df = pd.read_sql_query(\"SELECT * FROM pib_real_gasto ORDER BY año\", conn)\n",
    "conn.close()\n",
    "\n",
    "# 3. Exportar a Excel\n",
    "df.to_excel(output_file, index=False, sheet_name=\"PIB Real por Gasto\")\n",
    "\n",
    "print(f\"Datos exportados a: {output_file}\")"
   ]
  },
  {
   "cell_type": "code",
   "execution_count": 7,
   "id": "9788231d",
   "metadata": {},
   "outputs": [
    {
     "name": "stdout",
     "output_type": "stream",
     "text": [
      "Datos exportados a: ../precio_oficial_minerales.xlsx\n"
     ]
    }
   ],
   "source": [
    "import pandas as pd\n",
    "import sqlite3\n",
    "import os\n",
    "\n",
    "# 1. Directorio de salida\n",
    "output_dir = \"../\"\n",
    "os.makedirs(output_dir, exist_ok=True)\n",
    "output_file = os.path.join(output_dir, \"precio_oficial_minerales.xlsx\")\n",
    "\n",
    "# 2. Conexión a la base de datos y extracción\n",
    "conn = sqlite3.connect('../../db/proyectomacro.db')\n",
    "df = pd.read_sql_query(\"SELECT * FROM precio_oficial_minerales ORDER BY año\", conn)\n",
    "conn.close()\n",
    "\n",
    "# 3. Exportar a Excel\n",
    "df.to_excel(output_file, index=False, sheet_name=\"Precios Minerales\")\n",
    "\n",
    "print(f\"Datos exportados a: {output_file}\")"
   ]
  },
  {
   "cell_type": "code",
   "execution_count": 8,
   "id": "b773eb58",
   "metadata": {},
   "outputs": [
    {
     "name": "stdout",
     "output_type": "stream",
     "text": [
      "Datos exportados a: ../exportaciones_minerales_totales.xlsx\n"
     ]
    }
   ],
   "source": [
    "import pandas as pd\n",
    "import sqlite3\n",
    "import os\n",
    "\n",
    "# 1. Directorio de salida\n",
    "output_dir = \"../\"\n",
    "os.makedirs(output_dir, exist_ok=True)\n",
    "output_file = os.path.join(output_dir, \"exportaciones_minerales_totales.xlsx\")\n",
    "\n",
    "# 2. Conexión a la base de datos y extracción\n",
    "conn = sqlite3.connect('../../db/proyectomacro.db')\n",
    "df = pd.read_sql_query(\"SELECT * FROM exportaciones_minerales_totales ORDER BY año\", conn)\n",
    "conn.close()\n",
    "\n",
    "# 3. Exportar a Excel\n",
    "df.to_excel(output_file, index=False, sheet_name=\"Exportaciones Minerales Totales\")\n",
    "\n",
    "print(f\"Datos exportados a: {output_file}\")"
   ]
  }
 ],
 "metadata": {
  "jupytext": {
   "formats": "notebooks///ipynb,scripts///py:percent"
  },
  "kernelspec": {
   "display_name": ".venv",
   "language": "python",
   "name": "python3"
  },
  "language_info": {
   "codemirror_mode": {
    "name": "ipython",
    "version": 3
   },
   "file_extension": ".py",
   "mimetype": "text/x-python",
   "name": "python",
   "nbconvert_exporter": "python",
   "pygments_lexer": "ipython3",
   "version": "3.12.3"
  }
 },
 "nbformat": 4,
 "nbformat_minor": 5
}
